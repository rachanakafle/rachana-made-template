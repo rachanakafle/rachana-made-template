{
 "cells": [
  {
   "cell_type": "code",
   "execution_count": 1,
   "metadata": {},
   "outputs": [],
   "source": [
    "import pandas as pd\n",
    "import sqlite3\n",
    "\n",
    "# Connect to SQLite database\n",
    "conn1 = sqlite3.connect('../data/asia_covid.sqlite')\n",
    "conn2 = conn2 = sqlite3.connect('../data/europe_covid.sqlite')"
   ]
  },
  {
   "cell_type": "code",
   "execution_count": 2,
   "metadata": {},
   "outputs": [],
   "source": [
    "# Query data from SQLite table and fetch into a DataFrame\n",
    "query1 = \"SELECT * FROM asia\"\n",
    "query2 = \"SELECT *FROM europe\"\n",
    "df_asia = pd.read_sql_query(query1, conn1)\n",
    "df_europe = pd.read_sql_query(query2,conn2)"
   ]
  },
  {
   "cell_type": "code",
   "execution_count": 3,
   "metadata": {},
   "outputs": [],
   "source": [
    "# Close the database connection\n",
    "conn1.close()\n",
    "conn2.close()"
   ]
  },
  {
   "cell_type": "code",
   "execution_count": 4,
   "metadata": {},
   "outputs": [
    {
     "name": "stdout",
     "output_type": "stream",
     "text": [
      "      Country  TotalCases  TotalDeaths  TotalRecovered  ActiveCases  \\\n",
      "0       Yemen        9369       1778.0            5921         1670   \n",
      "1     Vietnam      839662      20555.0          782199        36908   \n",
      "2  Uzbekistan      178637       1271.0          174213         3153   \n",
      "3         UAE      737890       2114.0          731295         4481   \n",
      "4      Turkey     7444552      66180.0         6893476       484896   \n",
      "\n",
      "   TotalTests  \n",
      "0    265253.0  \n",
      "1  42517091.0  \n",
      "2   1377915.0  \n",
      "3  87246490.0  \n",
      "4  89847975.0  \n"
     ]
    }
   ],
   "source": [
    "# Explore and manipulate the DataFrame\n",
    "print(df_asia.head()) "
   ]
  },
  {
   "cell_type": "code",
   "execution_count": 5,
   "metadata": {},
   "outputs": [
    {
     "name": "stdout",
     "output_type": "stream",
     "text": [
      "  Country/Other  Total Cases  Total Deaths  Total Recovered  Active Cases  \\\n",
      "0       Albania       334084          3595         328802.0        1687.0   \n",
      "1       Andorra        47781           165          47563.0          53.0   \n",
      "2       Austria      5747540         21589        5702341.0       23610.0   \n",
      "3       Belarus       994037          7118         985592.0        1327.0   \n",
      "4       Belgium      4686147         33478        4631003.0       21666.0   \n",
      "\n",
      "   Total Tests  \n",
      "0      1941032  \n",
      "1       249838  \n",
      "2    205247898  \n",
      "3     13646641  \n",
      "4     36481740  \n"
     ]
    }
   ],
   "source": [
    "print(df_europe.head())"
   ]
  },
  {
   "cell_type": "code",
   "execution_count": null,
   "metadata": {},
   "outputs": [],
   "source": []
  }
 ],
 "metadata": {
  "kernelspec": {
   "display_name": "Python 3 (ipykernel)",
   "language": "python",
   "name": "python3"
  },
  "language_info": {
   "codemirror_mode": {
    "name": "ipython",
    "version": 3
   },
   "file_extension": ".py",
   "mimetype": "text/x-python",
   "name": "python",
   "nbconvert_exporter": "python",
   "pygments_lexer": "ipython3",
   "version": "3.10.12"
  }
 },
 "nbformat": 4,
 "nbformat_minor": 5
}
