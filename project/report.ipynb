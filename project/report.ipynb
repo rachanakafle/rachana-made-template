{
 "cells": [
  {
   "cell_type": "code",
   "execution_count": 2,
   "metadata": {},
   "outputs": [
    {
     "name": "stdout",
     "output_type": "stream",
     "text": [
      "Defaulting to user installation because normal site-packages is not writeable\n",
      "Requirement already satisfied: pandas in /home/rachana/.local/lib/python3.10/site-packages (2.1.4)\n",
      "Requirement already satisfied: numpy<2,>=1.22.4 in /home/rachana/.local/lib/python3.10/site-packages (from pandas) (1.26.2)\n",
      "Requirement already satisfied: tzdata>=2022.1 in /home/rachana/.local/lib/python3.10/site-packages (from pandas) (2023.3)\n",
      "Requirement already satisfied: python-dateutil>=2.8.2 in /home/rachana/.local/lib/python3.10/site-packages (from pandas) (2.8.2)\n",
      "Requirement already satisfied: pytz>=2020.1 in /usr/lib/python3/dist-packages (from pandas) (2022.1)\n",
      "Requirement already satisfied: six>=1.5 in /usr/lib/python3/dist-packages (from python-dateutil>=2.8.2->pandas) (1.16.0)\n",
      "Defaulting to user installation because normal site-packages is not writeable\n",
      "Requirement already satisfied: matplotlib in /home/rachana/.local/lib/python3.10/site-packages (3.8.2)\n",
      "Requirement already satisfied: packaging>=20.0 in /home/rachana/.local/lib/python3.10/site-packages (from matplotlib) (23.2)\n",
      "Requirement already satisfied: fonttools>=4.22.0 in /home/rachana/.local/lib/python3.10/site-packages (from matplotlib) (4.47.0)\n",
      "Requirement already satisfied: pyparsing>=2.3.1 in /usr/lib/python3/dist-packages (from matplotlib) (2.4.7)\n",
      "Requirement already satisfied: python-dateutil>=2.7 in /home/rachana/.local/lib/python3.10/site-packages (from matplotlib) (2.8.2)\n",
      "Requirement already satisfied: numpy<2,>=1.21 in /home/rachana/.local/lib/python3.10/site-packages (from matplotlib) (1.26.2)\n",
      "Requirement already satisfied: contourpy>=1.0.1 in /home/rachana/.local/lib/python3.10/site-packages (from matplotlib) (1.2.0)\n",
      "Requirement already satisfied: kiwisolver>=1.3.1 in /home/rachana/.local/lib/python3.10/site-packages (from matplotlib) (1.4.5)\n",
      "Requirement already satisfied: pillow>=8 in /usr/lib/python3/dist-packages (from matplotlib) (9.0.1)\n",
      "Requirement already satisfied: cycler>=0.10 in /home/rachana/.local/lib/python3.10/site-packages (from matplotlib) (0.12.1)\n",
      "Requirement already satisfied: six>=1.5 in /usr/lib/python3/dist-packages (from python-dateutil>=2.7->matplotlib) (1.16.0)\n",
      "Defaulting to user installation because normal site-packages is not writeable\n",
      "Collecting seaborn\n",
      "  Downloading seaborn-0.13.1-py3-none-any.whl (294 kB)\n",
      "\u001b[2K     \u001b[90m━━━━━━━━━━━━━━━━━━━━━━━━━━━━━━━━━━━━━━━\u001b[0m \u001b[32m294.8/294.8 KB\u001b[0m \u001b[31m2.0 MB/s\u001b[0m eta \u001b[36m0:00:00\u001b[0ma \u001b[36m0:00:01\u001b[0m\n",
      "\u001b[?25hRequirement already satisfied: pandas>=1.2 in /home/rachana/.local/lib/python3.10/site-packages (from seaborn) (2.1.4)\n",
      "Requirement already satisfied: numpy!=1.24.0,>=1.20 in /home/rachana/.local/lib/python3.10/site-packages (from seaborn) (1.26.2)\n",
      "Requirement already satisfied: matplotlib!=3.6.1,>=3.4 in /home/rachana/.local/lib/python3.10/site-packages (from seaborn) (3.8.2)\n",
      "Requirement already satisfied: pyparsing>=2.3.1 in /usr/lib/python3/dist-packages (from matplotlib!=3.6.1,>=3.4->seaborn) (2.4.7)\n",
      "Requirement already satisfied: packaging>=20.0 in /home/rachana/.local/lib/python3.10/site-packages (from matplotlib!=3.6.1,>=3.4->seaborn) (23.2)\n",
      "Requirement already satisfied: python-dateutil>=2.7 in /home/rachana/.local/lib/python3.10/site-packages (from matplotlib!=3.6.1,>=3.4->seaborn) (2.8.2)\n",
      "Requirement already satisfied: cycler>=0.10 in /home/rachana/.local/lib/python3.10/site-packages (from matplotlib!=3.6.1,>=3.4->seaborn) (0.12.1)\n",
      "Requirement already satisfied: fonttools>=4.22.0 in /home/rachana/.local/lib/python3.10/site-packages (from matplotlib!=3.6.1,>=3.4->seaborn) (4.47.0)\n",
      "Requirement already satisfied: pillow>=8 in /usr/lib/python3/dist-packages (from matplotlib!=3.6.1,>=3.4->seaborn) (9.0.1)\n",
      "Requirement already satisfied: kiwisolver>=1.3.1 in /home/rachana/.local/lib/python3.10/site-packages (from matplotlib!=3.6.1,>=3.4->seaborn) (1.4.5)\n",
      "Requirement already satisfied: contourpy>=1.0.1 in /home/rachana/.local/lib/python3.10/site-packages (from matplotlib!=3.6.1,>=3.4->seaborn) (1.2.0)\n",
      "Requirement already satisfied: pytz>=2020.1 in /usr/lib/python3/dist-packages (from pandas>=1.2->seaborn) (2022.1)\n",
      "Requirement already satisfied: tzdata>=2022.1 in /home/rachana/.local/lib/python3.10/site-packages (from pandas>=1.2->seaborn) (2023.3)\n",
      "Requirement already satisfied: six>=1.5 in /usr/lib/python3/dist-packages (from python-dateutil>=2.7->matplotlib!=3.6.1,>=3.4->seaborn) (1.16.0)\n",
      "Installing collected packages: seaborn\n",
      "Successfully installed seaborn-0.13.1\n"
     ]
    },
    {
     "name": "stderr",
     "output_type": "stream",
     "text": [
      "UsageError: Line magic function `%` not found.\n"
     ]
    }
   ],
   "source": [
    "!pip install pandas\n",
    "!pip install matplotlib\n",
    "!pip install seaborn\n",
    "\n",
    "%\n"
   ]
  },
  {
   "cell_type": "code",
   "execution_count": 3,
   "metadata": {},
   "outputs": [],
   "source": [
    "import pandas as pd\n",
    "import sqlite3\n",
    "import matplotlib.pyplot as plt\n",
    "import seaborn as sns"
   ]
  },
  {
   "cell_type": "markdown",
   "metadata": {},
   "source": []
  },
  {
   "cell_type": "code",
   "execution_count": 4,
   "metadata": {},
   "outputs": [],
   "source": [
    "# Connect to SQLite database\n",
    "conn1 = sqlite3.connect('../data/asia_covid.sqlite')\n",
    "conn2 = conn2 = sqlite3.connect('../data/europe_covid.sqlite')"
   ]
  },
  {
   "cell_type": "code",
   "execution_count": 5,
   "metadata": {},
   "outputs": [],
   "source": [
    "# Query data from SQLite table and fetch into a DataFrame\n",
    "query1 = \"SELECT * FROM asia\"\n",
    "query2 = \"SELECT *FROM europe\"\n",
    "df_asia = pd.read_sql_query(query1, conn1)\n",
    "df_europe = pd.read_sql_query(query2,conn2)"
   ]
  },
  {
   "cell_type": "code",
   "execution_count": 6,
   "metadata": {},
   "outputs": [],
   "source": [
    "# Close the database connection\n",
    "conn1.close()\n",
    "conn2.close()"
   ]
  },
  {
   "cell_type": "code",
   "execution_count": 7,
   "metadata": {},
   "outputs": [
    {
     "name": "stdout",
     "output_type": "stream",
     "text": [
      "      Country  TotalCases  TotalDeaths  TotalRecovered  ActiveCases  \\\n",
      "0       Yemen        9369       1778.0            5921         1670   \n",
      "1     Vietnam      839662      20555.0          782199        36908   \n",
      "2  Uzbekistan      178637       1271.0          174213         3153   \n",
      "3         UAE      737890       2114.0          731295         4481   \n",
      "4      Turkey     7444552      66180.0         6893476       484896   \n",
      "\n",
      "   TotalTests  \n",
      "0    265253.0  \n",
      "1  42517091.0  \n",
      "2   1377915.0  \n",
      "3  87246490.0  \n",
      "4  89847975.0  \n"
     ]
    }
   ],
   "source": [
    "# Explore and manipulate the DataFrame\n",
    "print(df_asia.head()) "
   ]
  },
  {
   "cell_type": "code",
   "execution_count": 8,
   "metadata": {},
   "outputs": [
    {
     "name": "stdout",
     "output_type": "stream",
     "text": [
      "   Country  TotalCases  TotalDeaths  TotalRecovered  ActiveCases  TotalTests\n",
      "0  Albania      334084         3595        328802.0       1687.0     1941032\n",
      "1  Andorra       47781          165         47563.0         53.0      249838\n",
      "2  Austria     5747540        21589       5702341.0      23610.0   205247898\n",
      "3  Belarus      994037         7118        985592.0       1327.0    13646641\n",
      "4  Belgium     4686147        33478       4631003.0      21666.0    36481740\n"
     ]
    }
   ],
   "source": [
    "print(df_europe.head())"
   ]
  },
  {
   "cell_type": "code",
   "execution_count": 16,
   "metadata": {},
   "outputs": [
    {
     "name": "stdout",
     "output_type": "stream",
     "text": [
      "Country           0\n",
      "TotalCases        0\n",
      "TotalDeaths       1\n",
      "TotalRecovered    0\n",
      "ActiveCases       0\n",
      "TotalTests        1\n",
      "dtype: int64\n"
     ]
    }
   ],
   "source": [
    "#Checking missing or null values\n",
    "print(df_asia.isnull().sum())\n"
   ]
  },
  {
   "cell_type": "code",
   "execution_count": 9,
   "metadata": {},
   "outputs": [
    {
     "name": "stdout",
     "output_type": "stream",
     "text": [
      "Country           0\n",
      "TotalCases        0\n",
      "TotalDeaths       0\n",
      "TotalRecovered    3\n",
      "ActiveCases       3\n",
      "TotalTests        0\n",
      "dtype: int64\n"
     ]
    }
   ],
   "source": [
    "#checking missing or null values\n",
    "print(df_europe.isnull().sum())\n"
   ]
  },
  {
   "cell_type": "code",
   "execution_count": 10,
   "metadata": {},
   "outputs": [
    {
     "data": {
      "text/html": [
       "<div>\n",
       "<style scoped>\n",
       "    .dataframe tbody tr th:only-of-type {\n",
       "        vertical-align: middle;\n",
       "    }\n",
       "\n",
       "    .dataframe tbody tr th {\n",
       "        vertical-align: top;\n",
       "    }\n",
       "\n",
       "    .dataframe thead th {\n",
       "        text-align: right;\n",
       "    }\n",
       "</style>\n",
       "<table border=\"1\" class=\"dataframe\">\n",
       "  <thead>\n",
       "    <tr style=\"text-align: right;\">\n",
       "      <th></th>\n",
       "      <th>TotalCases</th>\n",
       "      <th>TotalDeaths</th>\n",
       "      <th>TotalRecovered</th>\n",
       "      <th>ActiveCases</th>\n",
       "      <th>TotalTests</th>\n",
       "    </tr>\n",
       "  </thead>\n",
       "  <tbody>\n",
       "    <tr>\n",
       "      <th>count</th>\n",
       "      <td>4.900000e+01</td>\n",
       "      <td>48.000000</td>\n",
       "      <td>4.900000e+01</td>\n",
       "      <td>49.000000</td>\n",
       "      <td>4.800000e+01</td>\n",
       "    </tr>\n",
       "    <tr>\n",
       "      <th>mean</th>\n",
       "      <td>1.574671e+06</td>\n",
       "      <td>23732.937500</td>\n",
       "      <td>1.510029e+06</td>\n",
       "      <td>41393.000000</td>\n",
       "      <td>2.952919e+07</td>\n",
       "    </tr>\n",
       "    <tr>\n",
       "      <th>std</th>\n",
       "      <td>4.943437e+06</td>\n",
       "      <td>68852.400621</td>\n",
       "      <td>4.829174e+06</td>\n",
       "      <td>89902.688282</td>\n",
       "      <td>8.651915e+07</td>\n",
       "    </tr>\n",
       "    <tr>\n",
       "      <th>min</th>\n",
       "      <td>7.700000e+01</td>\n",
       "      <td>3.000000</td>\n",
       "      <td>6.400000e+01</td>\n",
       "      <td>0.000000</td>\n",
       "      <td>4.951000e+03</td>\n",
       "    </tr>\n",
       "    <tr>\n",
       "      <th>25%</th>\n",
       "      <td>1.150680e+05</td>\n",
       "      <td>1360.250000</td>\n",
       "      <td>9.107400e+04</td>\n",
       "      <td>1670.000000</td>\n",
       "      <td>2.334699e+06</td>\n",
       "    </tr>\n",
       "    <tr>\n",
       "      <th>50%</th>\n",
       "      <td>4.120790e+05</td>\n",
       "      <td>5105.500000</td>\n",
       "      <td>3.913590e+05</td>\n",
       "      <td>14787.000000</td>\n",
       "      <td>7.978141e+06</td>\n",
       "    </tr>\n",
       "    <tr>\n",
       "      <th>75%</th>\n",
       "      <td>9.056410e+05</td>\n",
       "      <td>17798.500000</td>\n",
       "      <td>8.474560e+05</td>\n",
       "      <td>29242.000000</td>\n",
       "      <td>2.510008e+07</td>\n",
       "    </tr>\n",
       "    <tr>\n",
       "      <th>max</th>\n",
       "      <td>3.397161e+07</td>\n",
       "      <td>450814.000000</td>\n",
       "      <td>3.329348e+07</td>\n",
       "      <td>484896.000000</td>\n",
       "      <td>5.836315e+08</td>\n",
       "    </tr>\n",
       "  </tbody>\n",
       "</table>\n",
       "</div>"
      ],
      "text/plain": [
       "         TotalCases    TotalDeaths  TotalRecovered    ActiveCases  \\\n",
       "count  4.900000e+01      48.000000    4.900000e+01      49.000000   \n",
       "mean   1.574671e+06   23732.937500    1.510029e+06   41393.000000   \n",
       "std    4.943437e+06   68852.400621    4.829174e+06   89902.688282   \n",
       "min    7.700000e+01       3.000000    6.400000e+01       0.000000   \n",
       "25%    1.150680e+05    1360.250000    9.107400e+04    1670.000000   \n",
       "50%    4.120790e+05    5105.500000    3.913590e+05   14787.000000   \n",
       "75%    9.056410e+05   17798.500000    8.474560e+05   29242.000000   \n",
       "max    3.397161e+07  450814.000000    3.329348e+07  484896.000000   \n",
       "\n",
       "         TotalTests  \n",
       "count  4.800000e+01  \n",
       "mean   2.952919e+07  \n",
       "std    8.651915e+07  \n",
       "min    4.951000e+03  \n",
       "25%    2.334699e+06  \n",
       "50%    7.978141e+06  \n",
       "75%    2.510008e+07  \n",
       "max    5.836315e+08  "
      ]
     },
     "execution_count": 10,
     "metadata": {},
     "output_type": "execute_result"
    }
   ],
   "source": [
    "df_asia.describe()\n"
   ]
  },
  {
   "cell_type": "code",
   "execution_count": 11,
   "metadata": {},
   "outputs": [
    {
     "data": {
      "text/html": [
       "<div>\n",
       "<style scoped>\n",
       "    .dataframe tbody tr th:only-of-type {\n",
       "        vertical-align: middle;\n",
       "    }\n",
       "\n",
       "    .dataframe tbody tr th {\n",
       "        vertical-align: top;\n",
       "    }\n",
       "\n",
       "    .dataframe thead th {\n",
       "        text-align: right;\n",
       "    }\n",
       "</style>\n",
       "<table border=\"1\" class=\"dataframe\">\n",
       "  <thead>\n",
       "    <tr style=\"text-align: right;\">\n",
       "      <th></th>\n",
       "      <th>TotalCases</th>\n",
       "      <th>TotalDeaths</th>\n",
       "      <th>TotalRecovered</th>\n",
       "      <th>ActiveCases</th>\n",
       "      <th>TotalTests</th>\n",
       "    </tr>\n",
       "  </thead>\n",
       "  <tbody>\n",
       "    <tr>\n",
       "      <th>count</th>\n",
       "      <td>4.700000e+01</td>\n",
       "      <td>47.000000</td>\n",
       "      <td>4.400000e+01</td>\n",
       "      <td>44.000000</td>\n",
       "      <td>4.700000e+01</td>\n",
       "    </tr>\n",
       "    <tr>\n",
       "      <th>mean</th>\n",
       "      <td>5.193760e+06</td>\n",
       "      <td>42474.723404</td>\n",
       "      <td>5.438625e+06</td>\n",
       "      <td>57501.636364</td>\n",
       "      <td>5.982183e+07</td>\n",
       "    </tr>\n",
       "    <tr>\n",
       "      <th>std</th>\n",
       "      <td>9.283831e+06</td>\n",
       "      <td>74795.135797</td>\n",
       "      <td>9.371759e+06</td>\n",
       "      <td>154828.162748</td>\n",
       "      <td>1.181358e+08</td>\n",
       "    </tr>\n",
       "    <tr>\n",
       "      <th>min</th>\n",
       "      <td>1.604000e+04</td>\n",
       "      <td>28.000000</td>\n",
       "      <td>1.595100e+04</td>\n",
       "      <td>0.000000</td>\n",
       "      <td>7.864600e+04</td>\n",
       "    </tr>\n",
       "    <tr>\n",
       "      <th>25%</th>\n",
       "      <td>3.159205e+05</td>\n",
       "      <td>2845.000000</td>\n",
       "      <td>3.683620e+05</td>\n",
       "      <td>1000.500000</td>\n",
       "      <td>2.159900e+06</td>\n",
       "    </tr>\n",
       "    <tr>\n",
       "      <th>50%</th>\n",
       "      <td>1.449824e+06</td>\n",
       "      <td>11947.000000</td>\n",
       "      <td>1.574754e+06</td>\n",
       "      <td>6127.000000</td>\n",
       "      <td>1.100243e+07</td>\n",
       "    </tr>\n",
       "    <tr>\n",
       "      <th>75%</th>\n",
       "      <td>5.025234e+06</td>\n",
       "      <td>36466.500000</td>\n",
       "      <td>5.269616e+06</td>\n",
       "      <td>22152.000000</td>\n",
       "      <td>3.727593e+07</td>\n",
       "    </tr>\n",
       "    <tr>\n",
       "      <th>max</th>\n",
       "      <td>3.946728e+07</td>\n",
       "      <td>394569.000000</td>\n",
       "      <td>3.910673e+07</td>\n",
       "      <td>920030.000000</td>\n",
       "      <td>5.225265e+08</td>\n",
       "    </tr>\n",
       "  </tbody>\n",
       "</table>\n",
       "</div>"
      ],
      "text/plain": [
       "         TotalCases    TotalDeaths  TotalRecovered    ActiveCases  \\\n",
       "count  4.700000e+01      47.000000    4.400000e+01      44.000000   \n",
       "mean   5.193760e+06   42474.723404    5.438625e+06   57501.636364   \n",
       "std    9.283831e+06   74795.135797    9.371759e+06  154828.162748   \n",
       "min    1.604000e+04      28.000000    1.595100e+04       0.000000   \n",
       "25%    3.159205e+05    2845.000000    3.683620e+05    1000.500000   \n",
       "50%    1.449824e+06   11947.000000    1.574754e+06    6127.000000   \n",
       "75%    5.025234e+06   36466.500000    5.269616e+06   22152.000000   \n",
       "max    3.946728e+07  394569.000000    3.910673e+07  920030.000000   \n",
       "\n",
       "         TotalTests  \n",
       "count  4.700000e+01  \n",
       "mean   5.982183e+07  \n",
       "std    1.181358e+08  \n",
       "min    7.864600e+04  \n",
       "25%    2.159900e+06  \n",
       "50%    1.100243e+07  \n",
       "75%    3.727593e+07  \n",
       "max    5.225265e+08  "
      ]
     },
     "execution_count": 11,
     "metadata": {},
     "output_type": "execute_result"
    }
   ],
   "source": [
    "df_europe.describe()"
   ]
  },
  {
   "cell_type": "code",
   "execution_count": 12,
   "metadata": {},
   "outputs": [
    {
     "name": "stdout",
     "output_type": "stream",
     "text": [
      "        Country  TotalCases  TotalDeaths  TotalRecovered  ActiveCases  \\\n",
      "36        India    33971607     450814.0        33293478       227315   \n",
      "4        Turkey     7444552      66180.0         6893476       484896   \n",
      "34         Iran     5702890     122592.0         5217999       362299   \n",
      "35    Indonesia     4227932     142651.0         4060851        24430   \n",
      "15  Philippines     2674814      39660.0         2536260        98894   \n",
      "\n",
      "     TotalTests  \n",
      "36  583631490.0  \n",
      "4    89847975.0  \n",
      "34   32619228.0  \n",
      "35   41624406.0  \n",
      "15   21784989.0  \n"
     ]
    }
   ],
   "source": [
    "top_countries_asia = df_asia.sort_values(by='TotalCases', ascending=False).head(5)\n",
    "print(top_countries_asia)\n"
   ]
  },
  {
   "cell_type": "code",
   "execution_count": 13,
   "metadata": {},
   "outputs": [
    {
     "name": "stdout",
     "output_type": "stream",
     "text": [
      "    Country  TotalCases  TotalDeaths  TotalRecovered  ActiveCases  TotalTests\n",
      "14   France    39467281       163644      39106729.0     196908.0   271490188\n",
      "15  Germany    37649808       164391      37169700.0     315717.0   122332384\n",
      "22    Italy    25363742       185993      24824106.0     353643.0   264182282\n",
      "45       UK    24243393       202157      23949907.0      91329.0   522526476\n",
      "37   Russia    21876336       394569      21293221.0     188546.0   273400000\n"
     ]
    }
   ],
   "source": [
    "top_countries_europe = df_europe.sort_values(by='TotalCases', ascending=False).head(5)\n",
    "print(top_countries_europe)\n"
   ]
  },
  {
   "cell_type": "code",
   "execution_count": 14,
   "metadata": {},
   "outputs": [],
   "source": [
    "#correlation_asia = df_asia.corr()\n"
   ]
  },
  {
   "cell_type": "code",
   "execution_count": 15,
   "metadata": {},
   "outputs": [],
   "source": [
    "#correlation_europe = df_europe.corr()\n"
   ]
  },
  {
   "cell_type": "markdown",
   "metadata": {},
   "source": [
    "# Visuation"
   ]
  },
  {
   "cell_type": "code",
   "execution_count": 17,
   "metadata": {},
   "outputs": [
    {
     "data": {
      "image/png": "[encoded data removed]",
      "text/plain": [
       "<Figure size 1400x700 with 1 Axes>"
      ]
     },
     "metadata": {},
     "output_type": "display_data"
    }
   ],
   "source": [
    "plt.figure(figsize=(14, 7))\n",
    "sns.barplot(x='Country', y='TotalCases', data=top_countries_asia)\n",
    "plt.title('Top 5 Countries in Asia by Total Cases')\n",
    "plt.xticks(rotation=45)\n",
    "plt.tight_layout()\n",
    "plt.show()\n"
   ]
  },
  {
   "cell_type": "code",
   "execution_count": 18,
   "metadata": {},
   "outputs": [
    {
     "data": {
      "image/png": "[encoded data removed]",
      "text/plain": [
       "<Figure size 1400x700 with 1 Axes>"
      ]
     },
     "metadata": {},
     "output_type": "display_data"
    }
   ],
   "source": [
    "plt.figure(figsize=(14, 7))\n",
    "sns.barplot(x='Country', y='TotalCases', data=top_countries_europe)\n",
    "plt.title('Top 5 Countries in Europe by Total Cases')\n",
    "plt.xticks(rotation=45)\n",
    "plt.tight_layout()\n",
    "plt.show()"
   ]
  },
  {
   "cell_type": "code",
   "execution_count": null,
   "metadata": {},
   "outputs": [],
   "source": []
  }
 ],
 "metadata": {
  "kernelspec": {
   "display_name": "Python 3 (ipykernel)",
   "language": "python",
   "name": "python3"
  },
  "language_info": {
   "codemirror_mode": {
    "name": "ipython",
    "version": 3
   },
   "file_extension": ".py",
   "mimetype": "text/x-python",
   "name": "python",
   "nbconvert_exporter": "python",
   "pygments_lexer": "ipython3",
   "version": "3.10.12"
  }
 },
 "nbformat": 4,
 "nbformat_minor": 5
}
